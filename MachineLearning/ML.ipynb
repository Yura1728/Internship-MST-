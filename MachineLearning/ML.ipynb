{
  "nbformat": 4,
  "nbformat_minor": 0,
  "metadata": {
    "colab": {
      "provenance": []
    },
    "kernelspec": {
      "name": "python3",
      "display_name": "Python 3"
    },
    "language_info": {
      "name": "python"
    }
  },
  "cells": [
    {
      "cell_type": "code",
      "execution_count": null,
      "metadata": {
        "colab": {
          "base_uri": "https://localhost:8080/"
        },
        "id": "vK2SpT6894Ac",
        "outputId": "daf9a1a5-585c-44b4-e110-bf1a1e805189"
      },
      "outputs": [
        {
          "output_type": "stream",
          "name": "stdout",
          "text": [
            "   Head Size(cm^3)  Brain Weight(grams)\n",
            "0             4512                 1530\n",
            "1             3738                 1297\n",
            "2             4261                 1335\n",
            "3             3777                 1282\n",
            "4             4177                 1590\n",
            "X_Train : \n",
            "99     3478\n",
            "52     4270\n",
            "184    3479\n",
            "139    3171\n",
            "107    3399\n",
            "Name: Head Size(cm^3), dtype: int64\n",
            "\n",
            "X_Test : \n",
            "66     3415\n",
            "113    3594\n",
            "135    3436\n",
            "227    4204\n",
            "68     4430\n",
            "Name: Head Size(cm^3), dtype: int64\n",
            "\n",
            "y_Train : \n",
            "99     1270\n",
            "52     1335\n",
            "184    1160\n",
            "139    1127\n",
            "107    1226\n",
            "Name: Brain Weight(grams), dtype: int64\n",
            "\n",
            "y_Test : \n",
            "66     1310\n",
            "113    1290\n",
            "135    1235\n",
            "227    1380\n",
            "68     1510\n",
            "Name: Brain Weight(grams), dtype: int64\n"
          ]
        }
      ],
      "source": [
        "import numpy as np\n",
        "import pandas as pd\n",
        "from sklearn.model_selection import train_test_split\n",
        "df=pd.read_csv('/content/headbrain1.csv')\n",
        "print(df.head())\n",
        "X=df['Head Size(cm^3)']\n",
        "y=df['Brain Weight(grams)']\n",
        "X_Train, X_Test, y_Train, y_Test = train_test_split(X,y,test_size=0.25,random_state=104,shuffle=True)\n",
        "print('X_Train : ')\n",
        "print(X_Train.head())\n",
        "print('')\n",
        "print('X_Test : ')\n",
        "print(X_Test.head())\n",
        "print('')\n",
        "print('y_Train : ')\n",
        "print(y_Train.head())\n",
        "print('')\n",
        "print('y_Test : ')\n",
        "print(y_Test.head())"
      ]
    },
    {
      "cell_type": "code",
      "source": [
        "df = pd.read_csv('/content/olympics.csv')\n",
        "print(\"Original Data:\")\n",
        "print(df.head())\n",
        "df.dropna(inplace=True)\n",
        "df.drop_duplicates(inplace=True)\n",
        "cleaned_file_path = 'cleaned_data.csv'\n",
        "df.to_csv(cleaned_file_path, index=False)\n",
        "print(\"\\nCleaned Data:\")\n",
        "print(df.head())"
      ],
      "metadata": {
        "colab": {
          "base_uri": "https://localhost:8080/"
        },
        "id": "f3hQ9XDHfNG2",
        "outputId": "7f591c87-5f79-419b-cd1b-35ea1fa3646e"
      },
      "execution_count": null,
      "outputs": [
        {
          "output_type": "stream",
          "name": "stdout",
          "text": [
            "Original Data:\n",
            "                   0         1     2     3     4      5         6     7     8  \\\n",
            "0                NaN  ? Summer  01 !  02 !  03 !  Total  ? Winter  01 !  02 !   \n",
            "1  Afghanistan (AFG)        13     0     0     2      2         0     0     0   \n",
            "2      Algeria (ALG)        12     5     2     8     15         3     0     0   \n",
            "3    Argentina (ARG)        23    18    24    28     70        18     0     0   \n",
            "4      Armenia (ARM)         5     1     2     9     12         6     0     0   \n",
            "\n",
            "      9     10       11    12    13    14              15  \n",
            "0  03 !  Total  ? Games  01 !  02 !  03 !  Combined total  \n",
            "1     0      0       13     0     0     2               2  \n",
            "2     0      0       15     5     2     8              15  \n",
            "3     0      0       41    18    24    28              70  \n",
            "4     0      0       11     1     2     9              12  \n",
            "\n",
            "Cleaned Data:\n",
            "                         0   1   2   3   4   5   6  7  8  9 10  11  12  13  \\\n",
            "1        Afghanistan (AFG)  13   0   0   2   2   0  0  0  0  0  13   0   0   \n",
            "2            Algeria (ALG)  12   5   2   8  15   3  0  0  0  0  15   5   2   \n",
            "3          Argentina (ARG)  23  18  24  28  70  18  0  0  0  0  41  18  24   \n",
            "4            Armenia (ARM)   5   1   2   9  12   6  0  0  0  0  11   1   2   \n",
            "5  Australasia (ANZ) [ANZ]   2   3   4   5  12   0  0  0  0  0   2   3   4   \n",
            "\n",
            "   14  15  \n",
            "1   2   2  \n",
            "2   8  15  \n",
            "3  28  70  \n",
            "4   9  12  \n",
            "5   5  12  \n"
          ]
        }
      ]
    }
  ]
}