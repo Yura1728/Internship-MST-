{
  "nbformat": 4,
  "nbformat_minor": 0,
  "metadata": {
    "colab": {
      "provenance": []
    },
    "kernelspec": {
      "name": "python3",
      "display_name": "Python 3"
    },
    "language_info": {
      "name": "python"
    }
  },
  "cells": [
    {
      "cell_type": "code",
      "execution_count": 1,
      "metadata": {
        "id": "VtdWT3xb2OS6"
      },
      "outputs": [],
      "source": [
        "import pandas as pd"
      ]
    },
    {
      "cell_type": "code",
      "source": [
        "S1 = pd.Series(['y', 'u', 'v', 'a'])\n",
        "print(S1)"
      ],
      "metadata": {
        "colab": {
          "base_uri": "https://localhost:8080/"
        },
        "id": "GWFbdsFE3Glp",
        "outputId": "1f09089a-f72f-49ee-afd8-222fdb379d25"
      },
      "execution_count": 2,
      "outputs": [
        {
          "output_type": "stream",
          "name": "stdout",
          "text": [
            "0    y\n",
            "1    u\n",
            "2    v\n",
            "3    a\n",
            "dtype: object\n"
          ]
        }
      ]
    },
    {
      "cell_type": "code",
      "source": [
        "S1 = pd.Series([30000]*4, index=['Q1', 'Q2', 'Q3', 'Q4'])\n",
        "print(S1)"
      ],
      "metadata": {
        "colab": {
          "base_uri": "https://localhost:8080/"
        },
        "id": "yp7bPSlO4WmA",
        "outputId": "20683e0e-9455-416f-a1ca-67640ca3f8e8"
      },
      "execution_count": 3,
      "outputs": [
        {
          "output_type": "stream",
          "name": "stdout",
          "text": [
            "Q1    30000\n",
            "Q2    30000\n",
            "Q3    30000\n",
            "Q4    30000\n",
            "dtype: int64\n"
          ]
        }
      ]
    },
    {
      "cell_type": "code",
      "source": [
        "S1 = pd.Series(range(0, 70, 7))\n",
        "print(S1)"
      ],
      "metadata": {
        "colab": {
          "base_uri": "https://localhost:8080/"
        },
        "id": "7pMlE9fq8YvI",
        "outputId": "5e1348af-438b-4339-b2eb-49437c20ef0a"
      },
      "execution_count": 4,
      "outputs": [
        {
          "output_type": "stream",
          "name": "stdout",
          "text": [
            "0     0\n",
            "1     7\n",
            "2    14\n",
            "3    21\n",
            "4    28\n",
            "5    35\n",
            "6    42\n",
            "7    49\n",
            "8    56\n",
            "9    63\n",
            "dtype: int64\n"
          ]
        }
      ]
    },
    {
      "cell_type": "code",
      "source": [
        "hindi_marks = {'Section1': 85, 'Section2': 90, 'Section3': 78, 'Section4': 92}\n",
        "S1 = pd.Series(hindi_marks)\n",
        "print(S1)"
      ],
      "metadata": {
        "colab": {
          "base_uri": "https://localhost:8080/"
        },
        "id": "mfMIvyWt7bQN",
        "outputId": "efb48b56-d51a-4e4f-e2d5-809aba08e541"
      },
      "execution_count": 5,
      "outputs": [
        {
          "output_type": "stream",
          "name": "stdout",
          "text": [
            "Section1    85\n",
            "Section2    90\n",
            "Section3    78\n",
            "Section4    92\n",
            "dtype: int64\n"
          ]
        }
      ]
    },
    {
      "cell_type": "code",
      "source": [
        "S1 = pd.Series(200, index=range(2002, 2024, 2))\n",
        "print(S1)"
      ],
      "metadata": {
        "colab": {
          "base_uri": "https://localhost:8080/"
        },
        "id": "q5B98ge99uon",
        "outputId": "7b199fea-64c4-43a7-9a59-ff554b9cc4e3"
      },
      "execution_count": 6,
      "outputs": [
        {
          "output_type": "stream",
          "name": "stdout",
          "text": [
            "2002    200\n",
            "2004    200\n",
            "2006    200\n",
            "2008    200\n",
            "2010    200\n",
            "2012    200\n",
            "2014    200\n",
            "2016    200\n",
            "2018    200\n",
            "2020    200\n",
            "2022    200\n",
            "dtype: int64\n"
          ]
        }
      ]
    },
    {
      "cell_type": "code",
      "source": [
        "data = {'Section 1': 106, 'Section 2': 155, 'Section 3': 120, 'Section 4': 180, 'Section 5': 160}\n",
        "c = pd.Series(data)\n",
        "c['Section 2'] = 200\n",
        "c[['Section 4', 'Section 5']] = 140, 115\n",
        "print(c)"
      ],
      "metadata": {
        "colab": {
          "base_uri": "https://localhost:8080/"
        },
        "id": "5sEmqeo0lfOg",
        "outputId": "eb59679b-c9c5-4f7a-aae0-b4b013b1d8be"
      },
      "execution_count": 7,
      "outputs": [
        {
          "output_type": "stream",
          "name": "stdout",
          "text": [
            "Section 1    106\n",
            "Section 2    200\n",
            "Section 3    120\n",
            "Section 4    140\n",
            "Section 5    115\n",
            "dtype: int64\n"
          ]
        }
      ]
    },
    {
      "cell_type": "code",
      "source": [
        "A1 = pd.Series({'Science': 200, 'Commerce': 150, 'Humanities': 100})\n",
        "A2 = pd.Series({'Science': 180, 'Commerce': 170, 'Humanities': 90})\n",
        "t = A1.add(A2)\n",
        "print(t)"
      ],
      "metadata": {
        "colab": {
          "base_uri": "https://localhost:8080/"
        },
        "id": "8Q45Ls-Ny7wC",
        "outputId": "3ab100f3-672d-4c7a-802b-3e1c60a72a00"
      },
      "execution_count": 8,
      "outputs": [
        {
          "output_type": "stream",
          "name": "stdout",
          "text": [
            "Science       380\n",
            "Commerce      320\n",
            "Humanities    190\n",
            "dtype: int64\n"
          ]
        }
      ]
    },
    {
      "cell_type": "code",
      "source": [
        "population = pd.Series({'Vijayawada': 5000000, 'Vizag': 3500000, 'Chennai': 4500000, 'Delhi': 6000000})\n",
        "average_income = pd.Series({'Vijayawada': 600000, 'Vizag': 750000, 'Chennai': 550000, 'Delhi': 800000})\n",
        "income = average_income / population\n",
        "print(income)"
      ],
      "metadata": {
        "colab": {
          "base_uri": "https://localhost:8080/"
        },
        "id": "W_F2dJsszeN9",
        "outputId": "6e30c596-9285-4d88-956f-31fdd0ea5993"
      },
      "execution_count": 9,
      "outputs": [
        {
          "output_type": "stream",
          "name": "stdout",
          "text": [
            "Vijayawada    0.120000\n",
            "Vizag         0.214286\n",
            "Chennai       0.122222\n",
            "Delhi         0.133333\n",
            "dtype: float64\n"
          ]
        }
      ]
    }
  ]
}