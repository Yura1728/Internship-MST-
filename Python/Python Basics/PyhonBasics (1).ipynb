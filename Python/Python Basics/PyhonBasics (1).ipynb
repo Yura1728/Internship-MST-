{
  "nbformat": 4,
  "nbformat_minor": 0,
  "metadata": {
    "colab": {
      "provenance": []
    },
    "kernelspec": {
      "name": "python3",
      "display_name": "Python 3"
    },
    "language_info": {
      "name": "python"
    }
  },
  "cells": [
    {
      "cell_type": "code",
      "execution_count": 2,
      "metadata": {
        "colab": {
          "base_uri": "https://localhost:8080/"
        },
        "id": "uHz83t1Pwoz1",
        "outputId": "aa97ebe4-c056-49e8-9791-2a700908f8fb"
      },
      "outputs": [
        {
          "output_type": "stream",
          "name": "stdout",
          "text": [
            "Enter element for list1: 1\n",
            "Enter element for list2: 2\n",
            "Enter element for list1: 3\n",
            "Enter element for list2: 4\n",
            "['1', '3', '2', '4']\n"
          ]
        }
      ],
      "source": [
        "list1 = []\n",
        "list2 = []\n",
        "for i in range(2):\n",
        "    e1 = input(\"Enter element for list1: \")\n",
        "    e2 = input(\"Enter element for list2: \")\n",
        "    list1.append(e1)\n",
        "    list2.append(e2)\n",
        "list3=list1+list2\n",
        "print(list3)"
      ]
    }
  ]
}