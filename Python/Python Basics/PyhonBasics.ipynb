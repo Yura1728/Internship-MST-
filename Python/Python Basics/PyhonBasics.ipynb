{
  "nbformat": 4,
  "nbformat_minor": 0,
  "metadata": {
    "colab": {
      "provenance": []
    },
    "kernelspec": {
      "name": "python3",
      "display_name": "Python 3"
    },
    "language_info": {
      "name": "python"
    }
  },
  "cells": [
    {
      "cell_type": "code",
      "execution_count": null,
      "metadata": {
        "colab": {
          "base_uri": "https://localhost:8080/"
        },
        "id": "uHz83t1Pwoz1",
        "outputId": "df918ab3-5696-40a3-982b-514c5ac74420"
      },
      "outputs": [
        {
          "output_type": "stream",
          "name": "stdout",
          "text": [
            "Enter element for list1: 1\n",
            "Enter element for list2: 2\n",
            "Enter element for list1: 2\n",
            "Enter element for list2: 2\n",
            "Enter element for list1: 2\n",
            "Enter element for list2: \n",
            "Enter element for list1: 2\n",
            "Enter element for list2: 2\n",
            "Enter element for list1: 2\n",
            "Enter element for list2: 2\n",
            "Enter element for list1: 2\n",
            "Enter element for list2: 2\n",
            "Enter element for list1: 2\n",
            "Enter element for list2: 2\n",
            "Enter element for list1: 2\n",
            "Enter element for list2: 2\n",
            "Enter element for list1: 2\n",
            "Enter element for list2: 2\n",
            "Enter element for list1: 2\n",
            "Enter element for list2: 2\n",
            "['1', '2', '2', '2', '2', '2', '2', '2', '2', '2', '2', '2', '', '2', '2', '2', '2', '2', '2', '2']\n"
          ]
        }
      ],
      "source": [
        "list1 = []\n",
        "list2 = []\n",
        "for i in range(2):\n",
        "    e1 = input(\"Enter element for list1: \")\n",
        "    e2 = input(\"Enter element for list2: \")\n",
        "    list1.append(e1)\n",
        "    list2.append(e2)2\n",
        "list3=list1+list2\n",
        "print(list3)"
      ]
    },
    {
      "cell_type": "code",
      "source": [
        "pip install pandas\n"
      ],
      "metadata": {
        "colab": {
          "base_uri": "https://localhost:8080/"
        },
        "id": "D3FkAIqreZ-c",
        "outputId": "41e513f6-50d1-4b69-f6d2-3725de499bf4"
      },
      "execution_count": null,
      "outputs": [
        {
          "output_type": "stream",
          "name": "stdout",
          "text": [
            "Requirement already satisfied: pandas in /usr/local/lib/python3.10/dist-packages (1.5.3)\n",
            "Requirement already satisfied: python-dateutil>=2.8.1 in /usr/local/lib/python3.10/dist-packages (from pandas) (2.8.2)\n",
            "Requirement already satisfied: pytz>=2020.1 in /usr/local/lib/python3.10/dist-packages (from pandas) (2023.4)\n",
            "Requirement already satisfied: numpy>=1.21.0 in /usr/local/lib/python3.10/dist-packages (from pandas) (1.23.5)\n",
            "Requirement already satisfied: six>=1.5 in /usr/local/lib/python3.10/dist-packages (from python-dateutil>=2.8.1->pandas) (1.16.0)\n"
          ]
        }
      ]
    },
    {
      "cell_type": "code",
      "source": [
        "import pandas as pd\n",
        "ser=pd.Series()\n",
        "print(ser)"
      ],
      "metadata": {
        "id": "QZ4otxOReoGV",
        "colab": {
          "base_uri": "https://localhost:8080/"
        },
        "outputId": "653e3a2e-b90d-4229-8429-85fc6daa4dd0"
      },
      "execution_count": null,
      "outputs": [
        {
          "output_type": "stream",
          "name": "stdout",
          "text": [
            "Series([], dtype: float64)\n"
          ]
        },
        {
          "output_type": "stream",
          "name": "stderr",
          "text": [
            "<ipython-input-1-023d9e7f7c92>:2: FutureWarning: The default dtype for empty Series will be 'object' instead of 'float64' in a future version. Specify a dtype explicitly to silence this warning.\n",
            "  ser=pd.Series()\n"
          ]
        }
      ]
    },
    {
      "cell_type": "code",
      "source": [
        "import numpy as np\n",
        "data=np.array(['g','e','e','k','s'])\n",
        "ser=pd.Series(data)\n",
        "print(ser)"
      ],
      "metadata": {
        "colab": {
          "base_uri": "https://localhost:8080/"
        },
        "id": "KIjQ7Gr-zzEO",
        "outputId": "d6b49304-3274-42d6-8277-412854c473b5"
      },
      "execution_count": null,
      "outputs": [
        {
          "output_type": "stream",
          "name": "stdout",
          "text": [
            "0    g\n",
            "1    e\n",
            "2    e\n",
            "3    k\n",
            "4    s\n",
            "dtype: object\n"
          ]
        }
      ]
    },
    {
      "cell_type": "code",
      "source": [
        "data=np.array(['g','e','e','k'])\n",
        "ses=pd.Series(data, index=[10,11,12,13])\n",
        "print(ses)"
      ],
      "metadata": {
        "colab": {
          "base_uri": "https://localhost:8080/"
        },
        "id": "8HLOFF_PzwSc",
        "outputId": "0a8d561f-3726-4c34-93fb-3a560c3da17b"
      },
      "execution_count": null,
      "outputs": [
        {
          "output_type": "stream",
          "name": "stdout",
          "text": [
            "10    g\n",
            "11    e\n",
            "12    e\n",
            "13    k\n",
            "dtype: object\n"
          ]
        }
      ]
    },
    {
      "cell_type": "code",
      "source": [
        "list=['a','k','e','s']\n",
        "ser=pd.Series(list)\n",
        "print(ser)"
      ],
      "metadata": {
        "colab": {
          "base_uri": "https://localhost:8080/"
        },
        "id": "4bE9W1M30u3H",
        "outputId": "c496eb8d-d513-4d42-bbf4-485b569a7752"
      },
      "execution_count": null,
      "outputs": [
        {
          "output_type": "stream",
          "name": "stdout",
          "text": [
            "0    a\n",
            "1    k\n",
            "2    e\n",
            "3    s\n",
            "dtype: object\n"
          ]
        }
      ]
    },
    {
      "cell_type": "code",
      "source": [
        "dict={'Geeks' : 10,'for' : 20, 'geeks' : 30}\n",
        "ser=pd.Series(dict)\n",
        "print(ser)"
      ],
      "metadata": {
        "colab": {
          "base_uri": "https://localhost:8080/"
        },
        "id": "PxrAvOD91Fnu",
        "outputId": "e1f05abd-32e6-421e-dcb6-b54193a0d073"
      },
      "execution_count": null,
      "outputs": [
        {
          "output_type": "stream",
          "name": "stdout",
          "text": [
            "Geeks    10\n",
            "for      20\n",
            "geeks    30\n",
            "dtype: int64\n"
          ]
        }
      ]
    },
    {
      "cell_type": "code",
      "source": [
        "ser=pd.Series(10, index=[0,1,2])\n",
        "print(ser)"
      ],
      "metadata": {
        "colab": {
          "base_uri": "https://localhost:8080/"
        },
        "id": "TWJjvuZG1qk2",
        "outputId": "470c349d-5382-464a-c9a6-9b0187de0c00"
      },
      "execution_count": null,
      "outputs": [
        {
          "output_type": "stream",
          "name": "stdout",
          "text": [
            "0    10\n",
            "1    10\n",
            "2    10\n",
            "dtype: int64\n"
          ]
        }
      ]
    },
    {
      "cell_type": "code",
      "source": [],
      "metadata": {
        "id": "hesxq_rA1-Ea"
      },
      "execution_count": null,
      "outputs": []
    }
  ]
}