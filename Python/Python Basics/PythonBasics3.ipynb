{
  "nbformat": 4,
  "nbformat_minor": 0,
  "metadata": {
    "colab": {
      "provenance": []
    },
    "kernelspec": {
      "name": "python3",
      "display_name": "Python 3"
    },
    "language_info": {
      "name": "python"
    }
  },
  "cells": [
    {
      "cell_type": "code",
      "execution_count": null,
      "metadata": {
        "colab": {
          "base_uri": "https://localhost:8080/"
        },
        "id": "xmPxgk_KSS5I",
        "outputId": "f395d6d8-483f-4a73-ad48-7f1d9728991c"
      },
      "outputs": [
        {
          "output_type": "stream",
          "name": "stdout",
          "text": [
            "1 2 3 4 5 6 7 8 9 10\n"
          ]
        }
      ],
      "source": [
        "print(*range(1, 11), sep=\" \")"
      ]
    },
    {
      "cell_type": "code",
      "source": [
        "def print_numbers(n):\n",
        "    if n <= 10:\n",
        "        print(n)\n",
        "        print_numbers(n + 1)\n",
        "print_numbers(1)"
      ],
      "metadata": {
        "id": "NgG_eckAXDkG",
        "outputId": "5afea111-76ee-4a42-a01a-f22a675562c5",
        "colab": {
          "base_uri": "https://localhost:8080/"
        }
      },
      "execution_count": null,
      "outputs": [
        {
          "output_type": "stream",
          "name": "stdout",
          "text": [
            "1\n",
            "2\n",
            "3\n",
            "4\n",
            "5\n",
            "6\n",
            "7\n",
            "8\n",
            "9\n",
            "10\n"
          ]
        }
      ]
    },
    {
      "cell_type": "code",
      "source": [
        "def rev_n(n):\n",
        "  return int(str(n)[::-1])\n",
        "n = int(input())\n",
        "print(rev_n(n))"
      ],
      "metadata": {
        "colab": {
          "base_uri": "https://localhost:8080/"
        },
        "id": "iUjG8TbNq2xj",
        "outputId": "2083b2c0-1558-43fc-a21e-960e7a93aa8a"
      },
      "execution_count": null,
      "outputs": [
        {
          "output_type": "stream",
          "name": "stdout",
          "text": [
            "54321\n",
            "12345\n"
          ]
        }
      ]
    }
  ]
}