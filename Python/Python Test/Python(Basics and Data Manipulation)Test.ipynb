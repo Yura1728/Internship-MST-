{
  "nbformat": 4,
  "nbformat_minor": 0,
  "metadata": {
    "colab": {
      "provenance": []
    },
    "kernelspec": {
      "name": "python3",
      "display_name": "Python 3"
    },
    "language_info": {
      "name": "python"
    }
  },
  "cells": [
    {
      "cell_type": "code",
      "execution_count": null,
      "metadata": {
        "colab": {
          "base_uri": "https://localhost:8080/"
        },
        "id": "4oMO3kxMTLAU",
        "outputId": "c972cc88-9dbd-4842-f947-29c5a4385ea3"
      },
      "outputs": [
        {
          "output_type": "stream",
          "name": "stdout",
          "text": [
            "A    7\n",
            "B    7\n",
            "C    7\n",
            "D    7\n",
            "dtype: int64\n"
          ]
        }
      ],
      "source": [
        "# 9. Write a code for Creating a Series from Scalar Value\n",
        "import pandas as pd\n",
        "import numpy as np\n",
        "ser = pd.Series(7, index=['A', 'B', 'C', 'D'])\n",
        "print(ser)"
      ]
    },
    {
      "cell_type": "code",
      "source": [
        "# 12. Write a python program to create two user defined list and find their sum.\n",
        "list1 = []\n",
        "num_elements = int(input(\"Enter the number of elements for the first list: \"))\n",
        "for i in range(num_elements):\n",
        "  list1.append(int(input(\"Enter element {}: \".format(i+1))))\n",
        "list2 = []\n",
        "num_elements = int(input(\"Enter the number of elements for the second list: \"))\n",
        "for i in range(num_elements):\n",
        "  list2.append(int(input(\"Enter element {}: \".format(i+1))))\n",
        "sum_list = [list1[i] + list2[i] for i in range(len(list1))]\n",
        "print(\"The sum of the two lists is:\", sum_list)"
      ],
      "metadata": {
        "colab": {
          "base_uri": "https://localhost:8080/"
        },
        "id": "wo9UMvGSXMQx",
        "outputId": "5290d64b-e512-4cce-e54b-b19a76af3510"
      },
      "execution_count": null,
      "outputs": [
        {
          "output_type": "stream",
          "name": "stdout",
          "text": [
            "Enter the number of elements for the first list: 1\n",
            "Enter element 1: 2\n",
            "Enter the number of elements for the second list: 2\n",
            "Enter element 1: 3\n",
            "Enter element 2: 2\n",
            "The sum of the two lists is: [5]\n"
          ]
        }
      ]
    },
    {
      "cell_type": "code",
      "source": [
        "# 13. Create a dictionary having keys as the week number and values as the week names\n",
        "weekdays = [\"Monday\", \"Tuesday\", \"Wednesday\", \"Thursday\", \"Friday\", \"Saturday\", \"Sunday\"]\n",
        "week_numbers = {i: weekdays[i % 7] for i in range(1, 53)}\n",
        "print(week_numbers)"
      ],
      "metadata": {
        "colab": {
          "base_uri": "https://localhost:8080/"
        },
        "id": "6jbyvtTLak7h",
        "outputId": "c6946a03-d5f2-4e93-b3f0-4e742ee2b33c"
      },
      "execution_count": null,
      "outputs": [
        {
          "output_type": "stream",
          "name": "stdout",
          "text": [
            "{1: 'Tuesday', 2: 'Wednesday', 3: 'Thursday', 4: 'Friday', 5: 'Saturday', 6: 'Sunday', 7: 'Monday', 8: 'Tuesday', 9: 'Wednesday', 10: 'Thursday', 11: 'Friday', 12: 'Saturday', 13: 'Sunday', 14: 'Monday', 15: 'Tuesday', 16: 'Wednesday', 17: 'Thursday', 18: 'Friday', 19: 'Saturday', 20: 'Sunday', 21: 'Monday', 22: 'Tuesday', 23: 'Wednesday', 24: 'Thursday', 25: 'Friday', 26: 'Saturday', 27: 'Sunday', 28: 'Monday', 29: 'Tuesday', 30: 'Wednesday', 31: 'Thursday', 32: 'Friday', 33: 'Saturday', 34: 'Sunday', 35: 'Monday', 36: 'Tuesday', 37: 'Wednesday', 38: 'Thursday', 39: 'Friday', 40: 'Saturday', 41: 'Sunday', 42: 'Monday', 43: 'Tuesday', 44: 'Wednesday', 45: 'Thursday', 46: 'Friday', 47: 'Saturday', 48: 'Sunday', 49: 'Monday', 50: 'Tuesday', 51: 'Wednesday', 52: 'Thursday'}\n"
          ]
        }
      ]
    },
    {
      "cell_type": "code",
      "source": [
        "# 14. Series object temp1,temp2,temp3,temp4 stores temprature of days of week 1,week2,week3,week4. Write python code to\n",
        "#1. Print average temprature per week.\n",
        "#2.Print average temperature of entire month.\n",
        "temp1 = pd.Series([25, 28, 26, 24, 27], index=['Mon', 'Tue', 'Wed', 'Thu', 'Fri'])\n",
        "temp2 = pd.Series([27, 29, 26, 28, 30], index=['Mon', 'Tue', 'Wed', 'Thu', 'Fri'])\n",
        "temp3 = pd.Series([26, 27, 25, 24, 26], index=['Mon', 'Tue', 'Wed', 'Thu', 'Fri'])\n",
        "temp4 = pd.Series([28, 30, 29, 31, 32], index=['Mon', 'Tue', 'Wed', 'Thu', 'Fri'])\n",
        "avg_temp_per_week = (temp1 + temp2 + temp3 + temp4) / 4\n",
        "avg_temp_month = (temp1.sum() + temp2.sum() + temp3.sum() + temp4.sum()) / (len(temp1) * 4)\n",
        "print(\"Average temperature per week:\")\n",
        "print(avg_temp_per_week)\n",
        "print()\n",
        "print(\"Average temperature for the entire month:\", avg_temp_month)"
      ],
      "metadata": {
        "colab": {
          "base_uri": "https://localhost:8080/"
        },
        "id": "V53KOdeSa3S6",
        "outputId": "834e2ab1-7f8f-482d-c9f2-b75175395a7f"
      },
      "execution_count": null,
      "outputs": [
        {
          "output_type": "stream",
          "name": "stdout",
          "text": [
            "Average temperature per week:\n",
            "Mon    26.50\n",
            "Tue    28.50\n",
            "Wed    26.50\n",
            "Thu    26.75\n",
            "Fri    28.75\n",
            "dtype: float64\n",
            "\n",
            "Average temperature for the entire month: 27.4\n"
          ]
        }
      ]
    },
    {
      "cell_type": "code",
      "source": [
        "#15.Write a program to create a Dataframe storing salesman details(name,zone,sale) of 5 salesman.\n",
        "data = {\n",
        "    'Name': ['John', 'Alice', 'Bob', 'Eve', 'Mike'],\n",
        "    'Zone': ['North', 'South', 'East', 'West', 'Central'],\n",
        "    'Sale': [5000, 6000, 4500, 7000, 5500]\n",
        "}\n",
        "df = pd.DataFrame(data)\n",
        "print(df)"
      ],
      "metadata": {
        "colab": {
          "base_uri": "https://localhost:8080/"
        },
        "id": "hQT2qvQDbpBw",
        "outputId": "1a6a0ac1-5da7-468e-e041-2ac653b6e2f4"
      },
      "execution_count": null,
      "outputs": [
        {
          "output_type": "stream",
          "name": "stdout",
          "text": [
            "    Name     Zone  Sale\n",
            "0   John    North  5000\n",
            "1  Alice    South  6000\n",
            "2    Bob     East  4500\n",
            "3    Eve     West  7000\n",
            "4   Mike  Central  5500\n"
          ]
        }
      ]
    },
    {
      "cell_type": "code",
      "source": [
        "#16. Write  program to create a series object that store table of 5.\n",
        "table_of_5 = pd.Series([5*i for i in range(1, 11)])\n",
        "print(table_of_5)"
      ],
      "metadata": {
        "colab": {
          "base_uri": "https://localhost:8080/"
        },
        "id": "eQkuBS3ccAf5",
        "outputId": "11c77854-0a67-4503-e713-b0f213533b24"
      },
      "execution_count": null,
      "outputs": [
        {
          "output_type": "stream",
          "name": "stdout",
          "text": [
            "0     5\n",
            "1    10\n",
            "2    15\n",
            "3    20\n",
            "4    25\n",
            "5    30\n",
            "6    35\n",
            "7    40\n",
            "8    45\n",
            "9    50\n",
            "dtype: int64\n"
          ]
        }
      ]
    },
    {
      "cell_type": "code",
      "source": [
        "# 17. Write a program to read details such as product information in Dataframe and then store it in CSV FILE.\n",
        "data = {\n",
        "    'ProductID': [101, 102, 103, 104],\n",
        "    'Product Name': ['Laptop', 'Smartphone', 'Headphones', 'Tablet'],\n",
        "    'Price': [1200, 800, 100, 300]\n",
        "}\n",
        "df = pd.DataFrame(data)\n",
        "print(\"Product Information:\")\n",
        "print(df)\n",
        "df.to_csv('product_information.csv', index=False)\n",
        "print(\"\\nDataFrame stored in product_information.csv\")"
      ],
      "metadata": {
        "colab": {
          "base_uri": "https://localhost:8080/"
        },
        "id": "dvDHjSJHccTa",
        "outputId": "796f85ab-fb6d-489f-f9f0-b4bebddc4a48"
      },
      "execution_count": null,
      "outputs": [
        {
          "output_type": "stream",
          "name": "stdout",
          "text": [
            "Product Information:\n",
            "   ProductID Product Name  Price\n",
            "0        101       Laptop   1200\n",
            "1        102   Smartphone    800\n",
            "2        103   Headphones    100\n",
            "3        104       Tablet    300\n",
            "\n",
            "DataFrame stored in product_information.csv\n"
          ]
        }
      ]
    }
  ]
}
