{
  "nbformat": 4,
  "nbformat_minor": 0,
  "metadata": {
    "colab": {
      "provenance": []
    },
    "kernelspec": {
      "name": "python3",
      "display_name": "Python 3"
    },
    "language_info": {
      "name": "python"
    }
  },
  "cells": [
    {
      "cell_type": "code",
      "execution_count": null,
      "metadata": {
        "colab": {
          "base_uri": "https://localhost:8080/"
        },
        "id": "JbKqOn8ObRsg",
        "outputId": "a4dad4b3-d850-4b2e-d356-24b6e10201c7"
      },
      "outputs": [
        {
          "output_type": "stream",
          "name": "stdout",
          "text": [
            "[1, 2, 3, 4]\n"
          ]
        }
      ],
      "source": [
        "def u(Y):\n",
        "    x = []\n",
        "    for i in Y:\n",
        "        if i not in x:\n",
        "            x.append(i)\n",
        "    return x\n",
        "print(u([1,2,3,3,4]))"
      ]
    },
    {
      "cell_type": "code",
      "source": [
        "def outf():\n",
        "    def inf():\n",
        "        print(\"This is Yuva\")\n",
        "    inf()\n",
        "outf()"
      ],
      "metadata": {
        "colab": {
          "base_uri": "https://localhost:8080/"
        },
        "id": "p7jTUO8Me5Zi",
        "outputId": "078eb429-c472-4f50-c948-242d7ec905ff"
      },
      "execution_count": null,
      "outputs": [
        {
          "output_type": "stream",
          "name": "stdout",
          "text": [
            "This is Yuva\n"
          ]
        }
      ]
    },
    {
      "cell_type": "code",
      "source": [
        "l = [1, 2, 3, 4, 5, 6, 7]\n",
        "for i in range(1, len(l), 2):\n",
        "    print(l[i])"
      ],
      "metadata": {
        "colab": {
          "base_uri": "https://localhost:8080/"
        },
        "id": "tBHkI723fXF9",
        "outputId": "f9ac2fd5-415e-4381-aede-ae9424595d79"
      },
      "execution_count": null,
      "outputs": [
        {
          "output_type": "stream",
          "name": "stdout",
          "text": [
            "2\n",
            "4\n",
            "6\n"
          ]
        }
      ]
    },
    {
      "cell_type": "code",
      "source": [
        "r = 5\n",
        "for i in range(1, r + 1):\n",
        "    print(\"* \" * i)\n",
        "for i in range(r - 1, 0, -1):\n",
        "    print(\"* \" * i)"
      ],
      "metadata": {
        "colab": {
          "base_uri": "https://localhost:8080/"
        },
        "id": "ynN4IB5iljbl",
        "outputId": "764a5b48-57c2-4686-bdd9-e512844d31b3"
      },
      "execution_count": null,
      "outputs": [
        {
          "output_type": "stream",
          "name": "stdout",
          "text": [
            "* \n",
            "* * \n",
            "* * * \n",
            "* * * * \n",
            "* * * * * \n",
            "* * * * \n",
            "* * * \n",
            "* * \n",
            "* \n"
          ]
        }
      ]
    },
    {
      "cell_type": "code",
      "source": [
        "n = int(input())\n",
        "sum = 0\n",
        "for i in range(1, n+1):\n",
        "    sum += i\n",
        "print(sum)"
      ],
      "metadata": {
        "colab": {
          "base_uri": "https://localhost:8080/"
        },
        "id": "b5YTKzgImLXN",
        "outputId": "1c6341c8-d8f1-4f0c-e13c-ffdef71ebca4"
      },
      "execution_count": null,
      "outputs": [
        {
          "output_type": "stream",
          "name": "stdout",
          "text": [
            "28\n",
            "406\n"
          ]
        }
      ]
    },
    {
      "cell_type": "code",
      "source": [
        "import pandas as pd\n",
        "us"
      ],
      "metadata": {
        "colab": {
          "base_uri": "https://localhost:8080/"
        },
        "id": "Nnb878uQnF0e",
        "outputId": "74b5924e-5532-4b2d-ad43-7fe57cdef6e0"
      },
      "execution_count": null,
      "outputs": [
        {
          "output_type": "stream",
          "name": "stdout",
          "text": [
            "0     60\n",
            "1     70\n",
            "2     80\n",
            "3     90\n",
            "4    100\n",
            "5    110\n",
            "6     70\n",
            "7     80\n",
            "8     90\n",
            "dtype: int64\n"
          ]
        }
      ]
    }
  ]
}