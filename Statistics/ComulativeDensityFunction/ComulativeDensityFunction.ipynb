{
  "nbformat": 4,
  "nbformat_minor": 0,
  "metadata": {
    "colab": {
      "provenance": []
    },
    "kernelspec": {
      "name": "python3",
      "display_name": "Python 3"
    },
    "language_info": {
      "name": "python"
    }
  },
  "cells": [
    {
      "cell_type": "code",
      "execution_count": 1,
      "metadata": {
        "id": "oIAWS1ucw1NI"
      },
      "outputs": [],
      "source": [
        "from numpy.random import randint as ri\n",
        "import pandas as pd"
      ]
    },
    {
      "cell_type": "code",
      "source": [
        "marks=ri(20,101,1000)"
      ],
      "metadata": {
        "id": "XPrINVBPxCIl"
      },
      "execution_count": 2,
      "outputs": []
    },
    {
      "cell_type": "code",
      "source": [
        "marks=pd.Series(marks)\n",
        "marks.head()"
      ],
      "metadata": {
        "colab": {
          "base_uri": "https://localhost:8080/"
        },
        "id": "hg27nO6vxE9x",
        "outputId": "31f102b9-480b-4524-8eaa-954caa76338d"
      },
      "execution_count": 3,
      "outputs": [
        {
          "output_type": "execute_result",
          "data": {
            "text/plain": [
              "0    84\n",
              "1    94\n",
              "2    60\n",
              "3    67\n",
              "4    50\n",
              "dtype: int64"
            ]
          },
          "metadata": {},
          "execution_count": 3
        }
      ]
    },
    {
      "cell_type": "code",
      "source": [
        "marks_mean=marks.mean()\n",
        "print('Mean of Student Marks is ',marks_mean)\n",
        "marks_std=marks.std()\n",
        "print(\"Standard Deviation\",marks_std)"
      ],
      "metadata": {
        "colab": {
          "base_uri": "https://localhost:8080/"
        },
        "id": "wPbF9eFRxHPZ",
        "outputId": "7420439f-53c8-44f2-e52d-5688a81127ae"
      },
      "execution_count": 4,
      "outputs": [
        {
          "output_type": "stream",
          "name": "stdout",
          "text": [
            "Mean of Student Marks is  61.425\n",
            "Standard Deviation 23.02599773238006\n"
          ]
        }
      ]
    },
    {
      "cell_type": "code",
      "source": [
        "x=50"
      ],
      "metadata": {
        "id": "seQXkeMDxKB1"
      },
      "execution_count": 5,
      "outputs": []
    },
    {
      "cell_type": "code",
      "source": [
        "import scipy.stats as st"
      ],
      "metadata": {
        "id": "jI5OWGTBxMMG"
      },
      "execution_count": 6,
      "outputs": []
    },
    {
      "cell_type": "code",
      "source": [
        "prob=st.norm.cdf(x,loc=marks_mean,scale=marks_std)\n",
        "print(prob)"
      ],
      "metadata": {
        "colab": {
          "base_uri": "https://localhost:8080/"
        },
        "id": "thG3MER7xO3Y",
        "outputId": "0871e79d-2bf4-41e4-d415-16dd6c2a847d"
      },
      "execution_count": 7,
      "outputs": [
        {
          "output_type": "stream",
          "name": "stdout",
          "text": [
            "0.30988431612834766\n"
          ]
        }
      ]
    },
    {
      "cell_type": "code",
      "source": [
        "marks.head()"
      ],
      "metadata": {
        "colab": {
          "base_uri": "https://localhost:8080/"
        },
        "id": "sIklfF5SxRRw",
        "outputId": "f539dbfd-9490-4910-92d3-55f5e7c3cd65"
      },
      "execution_count": 8,
      "outputs": [
        {
          "output_type": "execute_result",
          "data": {
            "text/plain": [
              "0    84\n",
              "1    94\n",
              "2    60\n",
              "3    67\n",
              "4    50\n",
              "dtype: int64"
            ]
          },
          "metadata": {},
          "execution_count": 8
        }
      ]
    },
    {
      "cell_type": "code",
      "source": [
        "x=70"
      ],
      "metadata": {
        "id": "5JvdptydxTvk"
      },
      "execution_count": 9,
      "outputs": []
    },
    {
      "cell_type": "code",
      "source": [
        "marks_mean"
      ],
      "metadata": {
        "colab": {
          "base_uri": "https://localhost:8080/"
        },
        "id": "HBjVMq8exV56",
        "outputId": "f664b6d7-7815-4b17-c72f-dc02e3246c3e"
      },
      "execution_count": 10,
      "outputs": [
        {
          "output_type": "execute_result",
          "data": {
            "text/plain": [
              "61.425"
            ]
          },
          "metadata": {},
          "execution_count": 10
        }
      ]
    },
    {
      "cell_type": "code",
      "source": [
        "marks_std"
      ],
      "metadata": {
        "colab": {
          "base_uri": "https://localhost:8080/"
        },
        "id": "c-hRCXdXxYEN",
        "outputId": "534bd158-9aae-4077-c7a6-b97b82445571"
      },
      "execution_count": 11,
      "outputs": [
        {
          "output_type": "execute_result",
          "data": {
            "text/plain": [
              "23.02599773238006"
            ]
          },
          "metadata": {},
          "execution_count": 11
        }
      ]
    },
    {
      "cell_type": "code",
      "source": [
        "prob=st.norm.cdf(x,loc=marks_mean,scale=marks_std)\n",
        "prob"
      ],
      "metadata": {
        "colab": {
          "base_uri": "https://localhost:8080/"
        },
        "id": "oBJ4mteFxaKM",
        "outputId": "bd6fb63b-7926-4943-8b3d-5d13a8ac400a"
      },
      "execution_count": 12,
      "outputs": [
        {
          "output_type": "execute_result",
          "data": {
            "text/plain": [
              "0.6452043876988642"
            ]
          },
          "metadata": {},
          "execution_count": 12
        }
      ]
    },
    {
      "cell_type": "code",
      "source": [
        "chances_of_getting_more_then_70_number=1-0.66"
      ],
      "metadata": {
        "id": "596eXuDFxcjp"
      },
      "execution_count": 13,
      "outputs": []
    },
    {
      "cell_type": "code",
      "source": [
        "chances_of_getting_more_then_70_number"
      ],
      "metadata": {
        "colab": {
          "base_uri": "https://localhost:8080/"
        },
        "id": "p5-MGx1GxexI",
        "outputId": "cf0367f7-77e4-4470-bfdd-0b0db59076b8"
      },
      "execution_count": 14,
      "outputs": [
        {
          "output_type": "execute_result",
          "data": {
            "text/plain": [
              "0.33999999999999997"
            ]
          },
          "metadata": {},
          "execution_count": 14
        }
      ]
    },
    {
      "cell_type": "code",
      "source": [
        "marks_mean"
      ],
      "metadata": {
        "colab": {
          "base_uri": "https://localhost:8080/"
        },
        "id": "QXdSWZySxhQ0",
        "outputId": "53f65dcf-9cb6-44ab-e61d-9806d5292dfc"
      },
      "execution_count": 15,
      "outputs": [
        {
          "output_type": "execute_result",
          "data": {
            "text/plain": [
              "61.425"
            ]
          },
          "metadata": {},
          "execution_count": 15
        }
      ]
    },
    {
      "cell_type": "code",
      "source": [
        "marks_std"
      ],
      "metadata": {
        "colab": {
          "base_uri": "https://localhost:8080/"
        },
        "id": "6C4R-L02xmcj",
        "outputId": "6355acd3-8e3d-4a75-a81c-2c3a9f9751c9"
      },
      "execution_count": 16,
      "outputs": [
        {
          "output_type": "execute_result",
          "data": {
            "text/plain": [
              "23.02599773238006"
            ]
          },
          "metadata": {},
          "execution_count": 16
        }
      ]
    },
    {
      "cell_type": "code",
      "source": [
        "x=50"
      ],
      "metadata": {
        "id": "2oYbBXqhxuIQ"
      },
      "execution_count": 17,
      "outputs": []
    },
    {
      "cell_type": "code",
      "source": [
        "score=(x-marks_mean)/marks_std\n",
        "score"
      ],
      "metadata": {
        "colab": {
          "base_uri": "https://localhost:8080/"
        },
        "id": "35pPYV2-xwbt",
        "outputId": "e3eecc1f-5594-4655-a1ea-f33babb70e93"
      },
      "execution_count": 18,
      "outputs": [
        {
          "output_type": "execute_result",
          "data": {
            "text/plain": [
              "-0.4961782821655417"
            ]
          },
          "metadata": {},
          "execution_count": 18
        }
      ]
    },
    {
      "cell_type": "code",
      "source": [
        "(50-marks_mean)/marks_std"
      ],
      "metadata": {
        "colab": {
          "base_uri": "https://localhost:8080/"
        },
        "id": "27YXs1oDxzc5",
        "outputId": "0d3fd57d-4fcb-4bad-db64-94b309363c58"
      },
      "execution_count": 19,
      "outputs": [
        {
          "output_type": "execute_result",
          "data": {
            "text/plain": [
              "-0.4961782821655417"
            ]
          },
          "metadata": {},
          "execution_count": 19
        }
      ]
    },
    {
      "cell_type": "code",
      "source": [
        "(60-marks_mean)/marks_std"
      ],
      "metadata": {
        "colab": {
          "base_uri": "https://localhost:8080/"
        },
        "id": "U40UPCQdx7pd",
        "outputId": "0d6046e7-ff5f-4d7c-a0c7-3074079b0be5"
      },
      "execution_count": 20,
      "outputs": [
        {
          "output_type": "execute_result",
          "data": {
            "text/plain": [
              "-0.06188656911036287"
            ]
          },
          "metadata": {},
          "execution_count": 20
        }
      ]
    },
    {
      "cell_type": "code",
      "source": [
        "fifteen_percent_chance=.4972-.3372"
      ],
      "metadata": {
        "id": "Gaink23rx_T6"
      },
      "execution_count": 21,
      "outputs": []
    },
    {
      "cell_type": "code",
      "source": [
        "fifteen_percent_chance"
      ],
      "metadata": {
        "colab": {
          "base_uri": "https://localhost:8080/"
        },
        "id": "8GiqOMLCyCXF",
        "outputId": "dcaa691b-e3a8-4908-d5ca-ee60f5ee70eb"
      },
      "execution_count": 22,
      "outputs": [
        {
          "output_type": "execute_result",
          "data": {
            "text/plain": [
              "0.15999999999999998"
            ]
          },
          "metadata": {},
          "execution_count": 22
        }
      ]
    },
    {
      "cell_type": "code",
      "source": [
        "#Hypothesis\n",
        "import numpy as np\n",
        "mean=25\n",
        "sample_mean=24.2\n",
        "std=1.5\n",
        "n=30"
      ],
      "metadata": {
        "id": "oFR8-0c3yF2S"
      },
      "execution_count": 23,
      "outputs": []
    },
    {
      "cell_type": "code",
      "source": [
        "z=(sample_mean-mean)/(std/np.sqrt(30))\n",
        "z"
      ],
      "metadata": {
        "colab": {
          "base_uri": "https://localhost:8080/"
        },
        "id": "U2O-Iijeyj1h",
        "outputId": "f57f130c-fa89-4092-ce20-a57c2e2fac0c"
      },
      "execution_count": 24,
      "outputs": [
        {
          "output_type": "execute_result",
          "data": {
            "text/plain": [
              "-2.921186973360889"
            ]
          },
          "metadata": {},
          "execution_count": 24
        }
      ]
    },
    {
      "cell_type": "code",
      "source": [
        "import scipy.stats as st\n",
        "import numpy as np"
      ],
      "metadata": {
        "id": "GKEpTcBSymaC"
      },
      "execution_count": 25,
      "outputs": []
    },
    {
      "cell_type": "code",
      "source": [
        "p_values=st.norm.cdf(sample_mean,loc=mean,scale=1.5/np.sqrt(30))"
      ],
      "metadata": {
        "id": "CJMvW4pvy6lq"
      },
      "execution_count": 26,
      "outputs": []
    },
    {
      "cell_type": "code",
      "source": [
        "p_values"
      ],
      "metadata": {
        "colab": {
          "base_uri": "https://localhost:8080/"
        },
        "id": "nCPq7eyry81d",
        "outputId": "b6b17936-3824-4530-a088-1603eb949f4c"
      },
      "execution_count": 27,
      "outputs": [
        {
          "output_type": "execute_result",
          "data": {
            "text/plain": [
              "0.0017435024460706768"
            ]
          },
          "metadata": {},
          "execution_count": 27
        }
      ]
    }
  ]
}