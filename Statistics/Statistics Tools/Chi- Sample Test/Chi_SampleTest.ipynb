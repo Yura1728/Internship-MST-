{
  "nbformat": 4,
  "nbformat_minor": 0,
  "metadata": {
    "colab": {
      "provenance": []
    },
    "kernelspec": {
      "name": "python3",
      "display_name": "Python 3"
    },
    "language_info": {
      "name": "python"
    }
  },
  "cells": [
    {
      "cell_type": "code",
      "execution_count": 1,
      "metadata": {
        "colab": {
          "base_uri": "https://localhost:8080/"
        },
        "id": "NAf85Sf64Ga3",
        "outputId": "de255af7-4bdd-4d17-97c5-cbb16b18bce6"
      },
      "outputs": [
        {
          "output_type": "stream",
          "name": "stdout",
          "text": [
            "Our Chi - Square test statistics score ==>  1.763816437645839\n"
          ]
        }
      ],
      "source": [
        "import numpy as np\n",
        "\n",
        "#Expected [25,28,21,30,45,58,57]\n",
        "#Observer [23,26,25,31,48,63,58]\n",
        "\n",
        "chi_ind=[np.square(23-25)/25,\n",
        "        np.square(26-28)/25,\n",
        "        np.square(25-21)/21,\n",
        "        np.square(31-30)/30,\n",
        "        np.square(48-45)/45,\n",
        "        np.square(63-58)/58,\n",
        "        np.square(58-57)/57]\n",
        "\n",
        "print(\"Our Chi - Square test statistics score ==> \",np.sum(chi_ind))"
      ]
    }
  ]
}